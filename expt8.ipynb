{
 "cells": [
  {
   "cell_type": "code",
   "execution_count": null,
   "metadata": {},
   "outputs": [
    {
     "ename": "SyntaxError",
     "evalue": "invalid syntax (1364898449.py, line 1)",
     "output_type": "error",
     "traceback": [
      "\u001b[1;36m  Cell \u001b[1;32mIn[1], line 1\u001b[1;36m\u001b[0m\n\u001b[1;33m    K-Means Clustering in Python\u001b[0m\n\u001b[1;37m            ^\u001b[0m\n\u001b[1;31mSyntaxError\u001b[0m\u001b[1;31m:\u001b[0m invalid syntax\n"
     ]
    }
   ],
   "source": [
    "K-Means Clustering in Python\n",
    "\n",
    "This project implements the K-Means clustering algorithm using Python.\n",
    "K-Means is an unsupervised machine learning algorithm used for grouping data points into k clusters based on feature similarity."
   ]
  },
  {
   "cell_type": "code",
   "execution_count": 6,
   "metadata": {},
   "outputs": [
    {
     "name": "stdout",
     "output_type": "stream",
     "text": [
      "Dataset Columns: Index(['5.1', '3.5', '1.4', '0.2', 'Iris-setosa'], dtype='object')\n",
      "Accuracy: 0.9333333333333333\n"
     ]
    }
   ],
   "source": [
    "import numpy as np\n",
    "import pandas as pd\n",
    "from sklearn.model_selection import train_test_split\n",
    "from sklearn.preprocessing import StandardScaler\n",
    "from sklearn.neighbors import KNeighborsClassifier\n",
    "from sklearn.metrics import accuracy_score\n",
    "\n",
    "# Load dataset\n",
    "file_path = r'C:\\Users\\paras\\OneDrive\\Documents\\GitHub\\BML\\iris.csv'  # Ensure file exists\n",
    "df = pd.read_csv(file_path)\n",
    "\n",
    "# Print actual column names\n",
    "print(\"Dataset Columns:\", df.columns)\n",
    "\n",
    "# Dynamically find feature columns (assuming last column is the target)\n",
    "feature_columns = df.columns[:-1]  # All except last column\n",
    "target_column = df.columns[-1]  # Last column as target\n",
    "\n",
    "# Check for missing values\n",
    "if df.isnull().sum().any():\n",
    "    print(\"Warning: Dataset contains missing values. Filling with mean values.\")\n",
    "    df.fillna(df.mean(), inplace=True)\n",
    "\n",
    "# Extract features and target\n",
    "X = df[list(feature_columns)]  # Select actual feature columns\n",
    "y = df[target_column]  # Select target column\n",
    "\n",
    "# Standardizing features\n",
    "scaler = StandardScaler()\n",
    "X = scaler.fit_transform(X)\n",
    "\n",
    "# Split data\n",
    "X_train, X_test, y_train, y_test = train_test_split(X, y, test_size=0.2, random_state=42)\n",
    "\n",
    "# Train KNN model\n",
    "k = 3\n",
    "knn = KNeighborsClassifier(n_neighbors=k)\n",
    "knn.fit(X_train, y_train)\n",
    "\n",
    "# Predictions\n",
    "y_pred = knn.predict(X_test)\n",
    "\n",
    "# Evaluate\n",
    "accuracy = accuracy_score(y_test, y_pred)\n",
    "print(\"Accuracy:\", accuracy)\n"
   ]
  }
 ],
 "metadata": {
  "kernelspec": {
   "display_name": "base",
   "language": "python",
   "name": "python3"
  },
  "language_info": {
   "codemirror_mode": {
    "name": "ipython",
    "version": 3
   },
   "file_extension": ".py",
   "mimetype": "text/x-python",
   "name": "python",
   "nbconvert_exporter": "python",
   "pygments_lexer": "ipython3",
   "version": "3.12.7"
  }
 },
 "nbformat": 4,
 "nbformat_minor": 2
}
