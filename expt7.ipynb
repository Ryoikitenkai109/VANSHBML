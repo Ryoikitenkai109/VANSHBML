{
 "cells": [
  {
   "cell_type": "code",
   "execution_count": null,
   "metadata": {},
   "outputs": [],
   "source": [
    "K-Nearest Neighbors (KNN) Classifier\n",
    "\n",
    "This project implements a K-Nearest Neighbors (KNN) classifier using Python. KNN is a simple, \n",
    "non-parametric algorithm used for classification and regression tasks. \n",
    "It classifies a data point based on the majority class of its nearest neighbors."
   ]
  },
  {
   "cell_type": "code",
   "execution_count": 3,
   "metadata": {},
   "outputs": [
    {
     "name": "stdout",
     "output_type": "stream",
     "text": [
      "Dataset Columns: Index(['5.1', '3.5', '1.4', '0.2', 'Iris-setosa'], dtype='object')\n",
      "Accuracy: 0.9333333333333333\n"
     ]
    }
   ],
   "source": [
    "import numpy as np\n",
    "import pandas as pd\n",
    "from sklearn.model_selection import train_test_split\n",
    "from sklearn.neighbors import KNeighborsClassifier\n",
    "from sklearn.metrics import accuracy_score\n",
    "import matplotlib.pyplot as plt\n",
    "\n",
    "# Load dataset\n",
    "file_path = r'C:\\Users\\paras\\OneDrive\\Documents\\GitHub\\BML\\iris.csv'  # Ensure this file exists\n",
    "df = pd.read_csv(file_path)\n",
    "\n",
    "# Print columns to verify correct column names\n",
    "print(\"Dataset Columns:\", df.columns)\n",
    "\n",
    "# Ensure the correct target column is used\n",
    "if 'target' not in df.columns:\n",
    "    df.rename(columns={df.columns[-1]: 'target'}, inplace=True)  # Rename last column if needed\n",
    "\n",
    "# Check for missing values\n",
    "if df.isnull().sum().any():\n",
    "    print(\"Warning: Dataset contains missing values. Filling with mean values.\")\n",
    "    df.fillna(df.mean(), inplace=True)  # Handle missing values\n",
    "\n",
    "# Split features and target\n",
    "X = df.drop(columns=['target'])\n",
    "y = df['target']\n",
    "\n",
    "# Split data into training and testing sets\n",
    "X_train, X_test, y_train, y_test = train_test_split(X, y, test_size=0.2, random_state=42)\n",
    "\n",
    "# Train KNN model\n",
    "k = 3  # Set the number of neighbors\n",
    "knn = KNeighborsClassifier(n_neighbors=k)\n",
    "knn.fit(X_train, y_train)\n",
    "\n",
    "# Predictions\n",
    "y_pred = knn.predict(X_test)\n",
    "\n",
    "# Evaluate model\n",
    "accuracy = accuracy_score(y_test, y_pred)\n",
    "print(\"Accuracy:\", accuracy)\n"
   ]
  }
 ],
 "metadata": {
  "kernelspec": {
   "display_name": "base",
   "language": "python",
   "name": "python3"
  },
  "language_info": {
   "codemirror_mode": {
    "name": "ipython",
    "version": 3
   },
   "file_extension": ".py",
   "mimetype": "text/x-python",
   "name": "python",
   "nbconvert_exporter": "python",
   "pygments_lexer": "ipython3",
   "version": "3.12.7"
  }
 },
 "nbformat": 4,
 "nbformat_minor": 2
}
